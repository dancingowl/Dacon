{
 "metadata": {
  "language_info": {
   "codemirror_mode": {
    "name": "ipython",
    "version": 3
   },
   "file_extension": ".py",
   "mimetype": "text/x-python",
   "name": "python",
   "nbconvert_exporter": "python",
   "pygments_lexer": "ipython3",
   "version": "3.7.6-final"
  },
  "orig_nbformat": 2,
  "kernelspec": {
   "name": "Python 3.7.6 64-bit ('base': conda)",
   "display_name": "Python 3.7.6 64-bit ('base': conda)",
   "metadata": {
    "interpreter": {
     "hash": "b3ba2566441a7c06988d0923437866b63cedc61552a5af99d1f4fb67d367b25f"
    }
   }
  }
 },
 "nbformat": 4,
 "nbformat_minor": 2,
 "cells": [
  {
   "cell_type": "code",
   "execution_count": 4,
   "metadata": {},
   "outputs": [],
   "source": [
    "import numpy as np\n",
    "import pandas as pd\n",
    "import matplotlib.pyplot as plt\n",
    "%matplotlib inline\n",
    "import seaborn as sns\n",
    "\n",
    "#전처리\n",
    "from sklearn.preprocessing import LabelEncoder, StandardScaler\n",
    "\n",
    "#데이터분리\n",
    "from sklearn.model_selection import StratifiedKFold, KFold, GridSearchCV\n",
    "\n",
    "#모델링\n",
    "from sklearn.ensemble import RandomForestRegressor, RandomForestClassifier\n",
    "from sklearn.svm import SVR\n",
    "from sklearn.linear_model import LinearRegression, LogisticRegression\n",
    "from sklearn.neighbors import KNeighborsClassifier\n",
    "\n",
    "#성과 평가 지표\n",
    "from sklearn.metrics import accuracy_score, mean_squared_error"
   ]
  },
  {
   "cell_type": "code",
   "execution_count": 3,
   "metadata": {},
   "outputs": [
    {
     "output_type": "stream",
     "name": "stdout",
     "text": [
      "D:\\Google Drive\\data\\open data\n"
     ]
    }
   ],
   "source": [
    "cd D:\\Google Drive\\data\\open data"
   ]
  },
  {
   "cell_type": "code",
   "execution_count": 8,
   "metadata": {},
   "outputs": [
    {
     "output_type": "stream",
     "name": "stdout",
     "text": [
      "(45532, 77)\n(11383, 76)\n(11383, 1)\n"
     ]
    }
   ],
   "source": [
    "train=pd.read_csv('./train.csv', index_col=0)\n",
    "test=pd.read_csv('./test_x.csv', index_col=0)\n",
    "submission=pd.read_csv('./sample_submission.csv', index_col=0)  \n",
    "print(train.shape)\n",
    "print(test.shape)\n",
    "print(submission.shape)"
   ]
  },
  {
   "source": [
    "## load data"
   ],
   "cell_type": "markdown",
   "metadata": {}
  },
  {
   "cell_type": "code",
   "execution_count": 20,
   "metadata": {},
   "outputs": [
    {
     "output_type": "stream",
     "name": "stdout",
     "text": [
      "Index(['QaA', 'QaE', 'QbA', 'QbE', 'QcA', 'QcE', 'QdA', 'QdE', 'QeA', 'QeE',\n       'QfA', 'QfE', 'QgA', 'QgE', 'QhA', 'QhE', 'QiA', 'QiE', 'QjA', 'QjE',\n       'QkA', 'QkE', 'QlA', 'QlE', 'QmA', 'QmE', 'QnA', 'QnE', 'QoA', 'QoE',\n       'QpA', 'QpE', 'QqA', 'QqE', 'QrA', 'QrE', 'QsA', 'QsE', 'QtA', 'QtE',\n       'age_group', 'education', 'engnat', 'familysize', 'gender', 'hand',\n       'married', 'race', 'religion', 'tp01', 'tp02', 'tp03', 'tp04', 'tp05',\n       'tp06', 'tp07', 'tp08', 'tp09', 'tp10', 'urban', 'voted', 'wf_01',\n       'wf_02', 'wf_03', 'wr_01', 'wr_02', 'wr_03', 'wr_04', 'wr_05', 'wr_06',\n       'wr_07', 'wr_08', 'wr_09', 'wr_10', 'wr_11', 'wr_12', 'wr_13'],\n      dtype='object')\n77\n"
     ]
    },
    {
     "output_type": "execute_result",
     "data": {
      "text/plain": [
       "       QaA   QaE  QbA   QbE  QcA   QcE  QdA   QdE  QeA   QeE  QfA   QfE  QgA  \\\n",
       "index                                                                          \n",
       "0      3.0   363  4.0  1370  5.0   997  1.0  1024  2.0  1577  5.0   539  2.0   \n",
       "1      5.0   647  5.0  1313  3.0  3387  5.0  2969  1.0  4320  3.0  2190  1.0   \n",
       "2      4.0  1623  1.0  1480  1.0  1021  4.0  3374  5.0  1333  1.0   531  4.0   \n",
       "3      3.0   504  3.0  2311  4.0   992  3.0  3245  1.0   357  2.0  1519  4.0   \n",
       "4      1.0   927  1.0   707  5.0   556  2.0  1062  1.0  1014  2.0   628  1.0   \n",
       "\n",
       "        QgE  QhA   QhE  QiA   QiE  QjA   QjE  QkA   QkE  QlA   QlE  QmA   QmE  \\\n",
       "index                                                                           \n",
       "0       586  4.0  1095  5.0  1142  4.0  1287  4.0   883  4.0   851  2.0   851   \n",
       "1       826  1.0  4082  5.0  1867  3.0  1264  5.0  2943  4.0  3927  1.0  4329   \n",
       "2      1167  1.0  1016  3.0  2653  2.0  1569  5.0   998  5.0  2547  2.0   918   \n",
       "3       159  3.0  2275  5.0  2809  4.0  5614  3.0  3219  4.0  1296  4.0  9046   \n",
       "4       991  1.0  1259  5.0  1153  5.0  1388  5.0   740  5.0  1181  4.0   547   \n",
       "\n",
       "       QnA   QnE  QoA   QoE  QpA    QpE  QqA   QqE  QrA   QrE  QsA   QsE  QtA  \\\n",
       "index                                                                           \n",
       "0      5.0   816  2.0   579  2.0    924  2.0   366  2.0   876  2.0   633  1.0   \n",
       "1      5.0  1828  1.0  1214  5.0   2414  5.0  1356  1.0  3039  4.0  4304  1.0   \n",
       "2      4.0  2153  2.0  1304  1.0   1131  5.0   937  4.0  1327  1.0  1170  1.0   \n",
       "3      4.0  1216  4.0  1169  4.0  23868  3.0   581  4.0  8830  4.0  2392  5.0   \n",
       "4      2.0   575  1.0   754  4.0   1140  5.0   323  5.0  1070  1.0   583  2.0   \n",
       "\n",
       "        QtE age_group  education  engnat  familysize  gender  hand  married  \\\n",
       "index                                                                         \n",
       "0      1115       30s          2       1           4  Female     1        3   \n",
       "1      1346       20s          4       2           3  Female     1        1   \n",
       "2      1409       30s          3       1           3    Male     1        2   \n",
       "3      1312       20s          4       2           0  Female     1        1   \n",
       "4      1889       20s          3       1           2    Male     1        2   \n",
       "\n",
       "        race  religion  tp01  tp02  tp03  tp04  tp05  tp06  tp07  tp08  tp09  \\\n",
       "index                                                                          \n",
       "0      White     Other     2     2     2     1     2     1     7     4     4   \n",
       "1      Asian     Hindu     1     1     0     0     1     2     3     4     0   \n",
       "2      White     Other     2     3     1     5     3     4     2     6     1   \n",
       "3      Asian     Hindu     2     4     1     1     1     3     1     3     1   \n",
       "4      White  Agnostic     1     1     1     6     0     2     0     6     2   \n",
       "\n",
       "       tp10  urban  voted  wf_01  wf_02  wf_03  wr_01  wr_02  wr_03  wr_04  \\\n",
       "index                                                                        \n",
       "0         3      1      2      0      0      0      0      1      0      0   \n",
       "1         4      3      2      0      0      0      0      1      0      1   \n",
       "2         3      2      1      0      0      1      1      1      0      1   \n",
       "3         3      3      1      0      0      0      0      1      0      0   \n",
       "4         6      1      1      0      1      0      1      1      0      1   \n",
       "\n",
       "       wr_05  wr_06  wr_07  wr_08  wr_09  wr_10  wr_11  wr_12  wr_13  \n",
       "index                                                                 \n",
       "0          1      0      1      1      0      1      0      1      1  \n",
       "1          1      0      1      1      0      1      0      1      1  \n",
       "2          1      0      1      1      1      1      0      1      1  \n",
       "3          0      0      0      1      0      1      0      1      1  \n",
       "4          1      1      1      1      0      1      1      1      1  "
      ],
      "text/html": "<div>\n<style scoped>\n    .dataframe tbody tr th:only-of-type {\n        vertical-align: middle;\n    }\n\n    .dataframe tbody tr th {\n        vertical-align: top;\n    }\n\n    .dataframe thead th {\n        text-align: right;\n    }\n</style>\n<table border=\"1\" class=\"dataframe\">\n  <thead>\n    <tr style=\"text-align: right;\">\n      <th></th>\n      <th>QaA</th>\n      <th>QaE</th>\n      <th>QbA</th>\n      <th>QbE</th>\n      <th>QcA</th>\n      <th>QcE</th>\n      <th>QdA</th>\n      <th>QdE</th>\n      <th>QeA</th>\n      <th>QeE</th>\n      <th>QfA</th>\n      <th>QfE</th>\n      <th>QgA</th>\n      <th>QgE</th>\n      <th>QhA</th>\n      <th>QhE</th>\n      <th>QiA</th>\n      <th>QiE</th>\n      <th>QjA</th>\n      <th>QjE</th>\n      <th>QkA</th>\n      <th>QkE</th>\n      <th>QlA</th>\n      <th>QlE</th>\n      <th>QmA</th>\n      <th>QmE</th>\n      <th>QnA</th>\n      <th>QnE</th>\n      <th>QoA</th>\n      <th>QoE</th>\n      <th>QpA</th>\n      <th>QpE</th>\n      <th>QqA</th>\n      <th>QqE</th>\n      <th>QrA</th>\n      <th>QrE</th>\n      <th>QsA</th>\n      <th>QsE</th>\n      <th>QtA</th>\n      <th>QtE</th>\n      <th>age_group</th>\n      <th>education</th>\n      <th>engnat</th>\n      <th>familysize</th>\n      <th>gender</th>\n      <th>hand</th>\n      <th>married</th>\n      <th>race</th>\n      <th>religion</th>\n      <th>tp01</th>\n      <th>tp02</th>\n      <th>tp03</th>\n      <th>tp04</th>\n      <th>tp05</th>\n      <th>tp06</th>\n      <th>tp07</th>\n      <th>tp08</th>\n      <th>tp09</th>\n      <th>tp10</th>\n      <th>urban</th>\n      <th>voted</th>\n      <th>wf_01</th>\n      <th>wf_02</th>\n      <th>wf_03</th>\n      <th>wr_01</th>\n      <th>wr_02</th>\n      <th>wr_03</th>\n      <th>wr_04</th>\n      <th>wr_05</th>\n      <th>wr_06</th>\n      <th>wr_07</th>\n      <th>wr_08</th>\n      <th>wr_09</th>\n      <th>wr_10</th>\n      <th>wr_11</th>\n      <th>wr_12</th>\n      <th>wr_13</th>\n    </tr>\n    <tr>\n      <th>index</th>\n      <th></th>\n      <th></th>\n      <th></th>\n      <th></th>\n      <th></th>\n      <th></th>\n      <th></th>\n      <th></th>\n      <th></th>\n      <th></th>\n      <th></th>\n      <th></th>\n      <th></th>\n      <th></th>\n      <th></th>\n      <th></th>\n      <th></th>\n      <th></th>\n      <th></th>\n      <th></th>\n      <th></th>\n      <th></th>\n      <th></th>\n      <th></th>\n      <th></th>\n      <th></th>\n      <th></th>\n      <th></th>\n      <th></th>\n      <th></th>\n      <th></th>\n      <th></th>\n      <th></th>\n      <th></th>\n      <th></th>\n      <th></th>\n      <th></th>\n      <th></th>\n      <th></th>\n      <th></th>\n      <th></th>\n      <th></th>\n      <th></th>\n      <th></th>\n      <th></th>\n      <th></th>\n      <th></th>\n      <th></th>\n      <th></th>\n      <th></th>\n      <th></th>\n      <th></th>\n      <th></th>\n      <th></th>\n      <th></th>\n      <th></th>\n      <th></th>\n      <th></th>\n      <th></th>\n      <th></th>\n      <th></th>\n      <th></th>\n      <th></th>\n      <th></th>\n      <th></th>\n      <th></th>\n      <th></th>\n      <th></th>\n      <th></th>\n      <th></th>\n      <th></th>\n      <th></th>\n      <th></th>\n      <th></th>\n      <th></th>\n      <th></th>\n      <th></th>\n    </tr>\n  </thead>\n  <tbody>\n    <tr>\n      <th>0</th>\n      <td>3.0</td>\n      <td>363</td>\n      <td>4.0</td>\n      <td>1370</td>\n      <td>5.0</td>\n      <td>997</td>\n      <td>1.0</td>\n      <td>1024</td>\n      <td>2.0</td>\n      <td>1577</td>\n      <td>5.0</td>\n      <td>539</td>\n      <td>2.0</td>\n      <td>586</td>\n      <td>4.0</td>\n      <td>1095</td>\n      <td>5.0</td>\n      <td>1142</td>\n      <td>4.0</td>\n      <td>1287</td>\n      <td>4.0</td>\n      <td>883</td>\n      <td>4.0</td>\n      <td>851</td>\n      <td>2.0</td>\n      <td>851</td>\n      <td>5.0</td>\n      <td>816</td>\n      <td>2.0</td>\n      <td>579</td>\n      <td>2.0</td>\n      <td>924</td>\n      <td>2.0</td>\n      <td>366</td>\n      <td>2.0</td>\n      <td>876</td>\n      <td>2.0</td>\n      <td>633</td>\n      <td>1.0</td>\n      <td>1115</td>\n      <td>30s</td>\n      <td>2</td>\n      <td>1</td>\n      <td>4</td>\n      <td>Female</td>\n      <td>1</td>\n      <td>3</td>\n      <td>White</td>\n      <td>Other</td>\n      <td>2</td>\n      <td>2</td>\n      <td>2</td>\n      <td>1</td>\n      <td>2</td>\n      <td>1</td>\n      <td>7</td>\n      <td>4</td>\n      <td>4</td>\n      <td>3</td>\n      <td>1</td>\n      <td>2</td>\n      <td>0</td>\n      <td>0</td>\n      <td>0</td>\n      <td>0</td>\n      <td>1</td>\n      <td>0</td>\n      <td>0</td>\n      <td>1</td>\n      <td>0</td>\n      <td>1</td>\n      <td>1</td>\n      <td>0</td>\n      <td>1</td>\n      <td>0</td>\n      <td>1</td>\n      <td>1</td>\n    </tr>\n    <tr>\n      <th>1</th>\n      <td>5.0</td>\n      <td>647</td>\n      <td>5.0</td>\n      <td>1313</td>\n      <td>3.0</td>\n      <td>3387</td>\n      <td>5.0</td>\n      <td>2969</td>\n      <td>1.0</td>\n      <td>4320</td>\n      <td>3.0</td>\n      <td>2190</td>\n      <td>1.0</td>\n      <td>826</td>\n      <td>1.0</td>\n      <td>4082</td>\n      <td>5.0</td>\n      <td>1867</td>\n      <td>3.0</td>\n      <td>1264</td>\n      <td>5.0</td>\n      <td>2943</td>\n      <td>4.0</td>\n      <td>3927</td>\n      <td>1.0</td>\n      <td>4329</td>\n      <td>5.0</td>\n      <td>1828</td>\n      <td>1.0</td>\n      <td>1214</td>\n      <td>5.0</td>\n      <td>2414</td>\n      <td>5.0</td>\n      <td>1356</td>\n      <td>1.0</td>\n      <td>3039</td>\n      <td>4.0</td>\n      <td>4304</td>\n      <td>1.0</td>\n      <td>1346</td>\n      <td>20s</td>\n      <td>4</td>\n      <td>2</td>\n      <td>3</td>\n      <td>Female</td>\n      <td>1</td>\n      <td>1</td>\n      <td>Asian</td>\n      <td>Hindu</td>\n      <td>1</td>\n      <td>1</td>\n      <td>0</td>\n      <td>0</td>\n      <td>1</td>\n      <td>2</td>\n      <td>3</td>\n      <td>4</td>\n      <td>0</td>\n      <td>4</td>\n      <td>3</td>\n      <td>2</td>\n      <td>0</td>\n      <td>0</td>\n      <td>0</td>\n      <td>0</td>\n      <td>1</td>\n      <td>0</td>\n      <td>1</td>\n      <td>1</td>\n      <td>0</td>\n      <td>1</td>\n      <td>1</td>\n      <td>0</td>\n      <td>1</td>\n      <td>0</td>\n      <td>1</td>\n      <td>1</td>\n    </tr>\n    <tr>\n      <th>2</th>\n      <td>4.0</td>\n      <td>1623</td>\n      <td>1.0</td>\n      <td>1480</td>\n      <td>1.0</td>\n      <td>1021</td>\n      <td>4.0</td>\n      <td>3374</td>\n      <td>5.0</td>\n      <td>1333</td>\n      <td>1.0</td>\n      <td>531</td>\n      <td>4.0</td>\n      <td>1167</td>\n      <td>1.0</td>\n      <td>1016</td>\n      <td>3.0</td>\n      <td>2653</td>\n      <td>2.0</td>\n      <td>1569</td>\n      <td>5.0</td>\n      <td>998</td>\n      <td>5.0</td>\n      <td>2547</td>\n      <td>2.0</td>\n      <td>918</td>\n      <td>4.0</td>\n      <td>2153</td>\n      <td>2.0</td>\n      <td>1304</td>\n      <td>1.0</td>\n      <td>1131</td>\n      <td>5.0</td>\n      <td>937</td>\n      <td>4.0</td>\n      <td>1327</td>\n      <td>1.0</td>\n      <td>1170</td>\n      <td>1.0</td>\n      <td>1409</td>\n      <td>30s</td>\n      <td>3</td>\n      <td>1</td>\n      <td>3</td>\n      <td>Male</td>\n      <td>1</td>\n      <td>2</td>\n      <td>White</td>\n      <td>Other</td>\n      <td>2</td>\n      <td>3</td>\n      <td>1</td>\n      <td>5</td>\n      <td>3</td>\n      <td>4</td>\n      <td>2</td>\n      <td>6</td>\n      <td>1</td>\n      <td>3</td>\n      <td>2</td>\n      <td>1</td>\n      <td>0</td>\n      <td>0</td>\n      <td>1</td>\n      <td>1</td>\n      <td>1</td>\n      <td>0</td>\n      <td>1</td>\n      <td>1</td>\n      <td>0</td>\n      <td>1</td>\n      <td>1</td>\n      <td>1</td>\n      <td>1</td>\n      <td>0</td>\n      <td>1</td>\n      <td>1</td>\n    </tr>\n    <tr>\n      <th>3</th>\n      <td>3.0</td>\n      <td>504</td>\n      <td>3.0</td>\n      <td>2311</td>\n      <td>4.0</td>\n      <td>992</td>\n      <td>3.0</td>\n      <td>3245</td>\n      <td>1.0</td>\n      <td>357</td>\n      <td>2.0</td>\n      <td>1519</td>\n      <td>4.0</td>\n      <td>159</td>\n      <td>3.0</td>\n      <td>2275</td>\n      <td>5.0</td>\n      <td>2809</td>\n      <td>4.0</td>\n      <td>5614</td>\n      <td>3.0</td>\n      <td>3219</td>\n      <td>4.0</td>\n      <td>1296</td>\n      <td>4.0</td>\n      <td>9046</td>\n      <td>4.0</td>\n      <td>1216</td>\n      <td>4.0</td>\n      <td>1169</td>\n      <td>4.0</td>\n      <td>23868</td>\n      <td>3.0</td>\n      <td>581</td>\n      <td>4.0</td>\n      <td>8830</td>\n      <td>4.0</td>\n      <td>2392</td>\n      <td>5.0</td>\n      <td>1312</td>\n      <td>20s</td>\n      <td>4</td>\n      <td>2</td>\n      <td>0</td>\n      <td>Female</td>\n      <td>1</td>\n      <td>1</td>\n      <td>Asian</td>\n      <td>Hindu</td>\n      <td>2</td>\n      <td>4</td>\n      <td>1</td>\n      <td>1</td>\n      <td>1</td>\n      <td>3</td>\n      <td>1</td>\n      <td>3</td>\n      <td>1</td>\n      <td>3</td>\n      <td>3</td>\n      <td>1</td>\n      <td>0</td>\n      <td>0</td>\n      <td>0</td>\n      <td>0</td>\n      <td>1</td>\n      <td>0</td>\n      <td>0</td>\n      <td>0</td>\n      <td>0</td>\n      <td>0</td>\n      <td>1</td>\n      <td>0</td>\n      <td>1</td>\n      <td>0</td>\n      <td>1</td>\n      <td>1</td>\n    </tr>\n    <tr>\n      <th>4</th>\n      <td>1.0</td>\n      <td>927</td>\n      <td>1.0</td>\n      <td>707</td>\n      <td>5.0</td>\n      <td>556</td>\n      <td>2.0</td>\n      <td>1062</td>\n      <td>1.0</td>\n      <td>1014</td>\n      <td>2.0</td>\n      <td>628</td>\n      <td>1.0</td>\n      <td>991</td>\n      <td>1.0</td>\n      <td>1259</td>\n      <td>5.0</td>\n      <td>1153</td>\n      <td>5.0</td>\n      <td>1388</td>\n      <td>5.0</td>\n      <td>740</td>\n      <td>5.0</td>\n      <td>1181</td>\n      <td>4.0</td>\n      <td>547</td>\n      <td>2.0</td>\n      <td>575</td>\n      <td>1.0</td>\n      <td>754</td>\n      <td>4.0</td>\n      <td>1140</td>\n      <td>5.0</td>\n      <td>323</td>\n      <td>5.0</td>\n      <td>1070</td>\n      <td>1.0</td>\n      <td>583</td>\n      <td>2.0</td>\n      <td>1889</td>\n      <td>20s</td>\n      <td>3</td>\n      <td>1</td>\n      <td>2</td>\n      <td>Male</td>\n      <td>1</td>\n      <td>2</td>\n      <td>White</td>\n      <td>Agnostic</td>\n      <td>1</td>\n      <td>1</td>\n      <td>1</td>\n      <td>6</td>\n      <td>0</td>\n      <td>2</td>\n      <td>0</td>\n      <td>6</td>\n      <td>2</td>\n      <td>6</td>\n      <td>1</td>\n      <td>1</td>\n      <td>0</td>\n      <td>1</td>\n      <td>0</td>\n      <td>1</td>\n      <td>1</td>\n      <td>0</td>\n      <td>1</td>\n      <td>1</td>\n      <td>1</td>\n      <td>1</td>\n      <td>1</td>\n      <td>0</td>\n      <td>1</td>\n      <td>1</td>\n      <td>1</td>\n      <td>1</td>\n    </tr>\n  </tbody>\n</table>\n</div>"
     },
     "metadata": {},
     "execution_count": 20
    }
   ],
   "source": [
    "pd.set_option('display.max_columns', 100)\n",
    "# pd.set_option('display.max_rows', 100)\n",
    "print(train.columns)\n",
    "print(len(train.columns))\n",
    "train.head()"
   ]
  },
  {
   "source": [
    "## Drop columns"
   ],
   "cell_type": "markdown",
   "metadata": {}
  },
  {
   "cell_type": "code",
   "execution_count": null,
   "metadata": {},
   "outputs": [],
   "source": [
    "drop_val = ['QaA', 'QbA', 'QbE', 'QcA', 'QcE', 'QdE', 'QeA','QeE',\n",
    "       'QfA', 'QfE', 'QgA', 'QgE', 'QhA', 'QhE', 'QiA', 'QiE', 'QjA', 'QjE',\n",
    "       'QkA', 'QkE', 'QlA', 'QlE', 'QmA', 'QmE', 'QnA', 'QnE', 'QoA', 'QoE',\n",
    "       'QpA', 'QpE', 'QqA', 'QqE', 'QrA', 'QrE', 'QsA', 'QsE', 'QtA', 'QtE','tp01', 'tp02', 'tp03', 'tp04', 'tp05',\n",
    "       'tp06', 'tp07', 'tp08', 'tp09', 'tp10', 'urban', 'wf_01',\n",
    "       'wf_02', 'wf_03', 'wr_01', 'wr_02', 'wr_03', 'wr_04', 'wr_05', 'wr_06',\n",
    "       'wr_07', 'wr_08', 'wr_09', 'wr_10', 'wr_11', 'wr_12', 'wr_13']\n",
    "\n",
    "train = train.drop(drop_val, axis = 1)\n",
    "test = test.drop(drop_val, axis = 1)\n",
    "train.head()\n",
    "test.head()"
   ]
  },
  {
   "cell_type": "code",
   "execution_count": null,
   "metadata": {},
   "outputs": [],
   "source": [
    "#missing 확인\n",
    "print('train : ',train.isnull().sum())\n",
    "print('test : ',test.isnull().sum())"
   ]
  },
  {
   "source": [
    "## Preprocessing"
   ],
   "cell_type": "markdown",
   "metadata": {}
  },
  {
   "cell_type": "code",
   "execution_count": null,
   "metadata": {},
   "outputs": [],
   "source": [
    "#labelencoding\n",
    "label = LabelEncoder()\n",
    "train['gender_code'] = label.fit_transform(train['gender'])\n",
    "train['age_group_code'] = label.fit_transform(train['age_group'])\n",
    "train['race_code'] = label.fit_transform(train['race'])\n",
    "train['religion_code'] = label.fit_transform(train['religion'])\n",
    "\n",
    "test['gender_code'] = label.fit_transform(test['gender'])\n",
    "test['age_group_code'] = label.fit_transform(test['age_group'])\n",
    "test['race_code'] = label.fit_transform(test['race'])\n",
    "test['religion_code'] = label.fit_transform(test['religion'])\n",
    "\n",
    "drop2 = ['gender','age_group','race','religion']\n",
    "train = train.drop(drop2, axis = 1)\n",
    "test = test.drop(drop2, axis = 1)"
   ]
  },
  {
   "cell_type": "code",
   "execution_count": null,
   "metadata": {},
   "outputs": [],
   "source": []
  },
  {
   "cell_type": "code",
   "execution_count": null,
   "metadata": {},
   "outputs": [],
   "source": []
  },
  {
   "cell_type": "code",
   "execution_count": null,
   "metadata": {},
   "outputs": [],
   "source": []
  }
 ]
}